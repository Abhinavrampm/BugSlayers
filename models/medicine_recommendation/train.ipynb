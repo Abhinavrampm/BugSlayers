{
 "cells": [
  {
   "cell_type": "markdown",
   "metadata": {
    "id": "83F1tufI6qfb"
   },
   "source": [
    "# Drug Prescription\n"
   ]
  },
  {
   "cell_type": "markdown",
   "metadata": {},
   "source": [
    "#### Importing necessary Libraries "
   ]
  },
  {
   "cell_type": "code",
   "execution_count": 10,
   "metadata": {
    "id": "2ihhGDHH6qfp"
   },
   "outputs": [
    {
     "name": "stdout",
     "output_type": "stream",
     "text": [
      "Random Forest Accuracy: 94.57%\n",
      "\n",
      "Classification Report:\n",
      "               precision    recall  f1-score   support\n",
      "\n",
      "           0       1.00      1.00      1.00         8\n",
      "           1       1.00      1.00      1.00         9\n",
      "           2       1.00      1.00      1.00         8\n",
      "           3       1.00      1.00      1.00         3\n",
      "           4       1.00      1.00      1.00         3\n",
      "           5       1.00      1.00      1.00         9\n",
      "           6       1.00      1.00      1.00         8\n",
      "           7       1.00      0.78      0.88         9\n",
      "           8       0.60      1.00      0.75         3\n",
      "           9       1.00      1.00      1.00         8\n",
      "          10       1.00      0.92      0.96        12\n",
      "          12       1.00      1.00      1.00         3\n",
      "          13       1.00      1.00      1.00        16\n",
      "          14       0.00      0.00      0.00         0\n",
      "          16       1.00      1.00      1.00         8\n",
      "          17       0.00      0.00      0.00         1\n",
      "          18       0.00      0.00      0.00         0\n",
      "          21       0.00      0.00      0.00         1\n",
      "          22       0.00      0.00      0.00         0\n",
      "          23       0.83      1.00      0.91         5\n",
      "          25       1.00      1.00      1.00         9\n",
      "          28       1.00      0.67      0.80         3\n",
      "          31       1.00      0.50      0.67         2\n",
      "          33       1.00      1.00      1.00         3\n",
      "          34       1.00      0.67      0.80         3\n",
      "          35       1.00      1.00      1.00         9\n",
      "          36       0.00      0.00      0.00         0\n",
      "          37       0.94      1.00      0.97        17\n",
      "          38       1.00      1.00      1.00         2\n",
      "          39       0.00      0.00      0.00         0\n",
      "          41       1.00      1.00      1.00         2\n",
      "          42       1.00      0.80      0.89         5\n",
      "          43       1.00      1.00      1.00         9\n",
      "          45       1.00      1.00      1.00         1\n",
      "          46       1.00      1.00      1.00        16\n",
      "          48       1.00      1.00      1.00         8\n",
      "          49       1.00      0.67      0.80         3\n",
      "          50       1.00      1.00      1.00         2\n",
      "          51       1.00      1.00      1.00         8\n",
      "          52       1.00      1.00      1.00         5\n",
      "          53       0.00      0.00      0.00         1\n",
      "          54       0.00      0.00      0.00         0\n",
      "          56       0.00      0.00      0.00         1\n",
      "          58       1.00      1.00      1.00         2\n",
      "          59       0.00      0.00      0.00         0\n",
      "          60       1.00      1.00      1.00        16\n",
      "          61       0.00      0.00      0.00         0\n",
      "          62       1.00      0.80      0.89         5\n",
      "          63       0.00      0.00      0.00         1\n",
      "          64       1.00      1.00      1.00        11\n",
      "\n",
      "    accuracy                           0.95       258\n",
      "   macro avg       0.73      0.70      0.71       258\n",
      "weighted avg       0.97      0.95      0.95       258\n",
      "\n"
     ]
    },
    {
     "name": "stderr",
     "output_type": "stream",
     "text": [
      "c:\\Users\\abhin\\.conda\\envs\\plant_disease\\lib\\site-packages\\sklearn\\metrics\\_classification.py:1469: UndefinedMetricWarning: Precision and F-score are ill-defined and being set to 0.0 in labels with no predicted samples. Use `zero_division` parameter to control this behavior.\n",
      "  _warn_prf(average, modifier, msg_start, len(result))\n",
      "c:\\Users\\abhin\\.conda\\envs\\plant_disease\\lib\\site-packages\\sklearn\\metrics\\_classification.py:1469: UndefinedMetricWarning: Recall and F-score are ill-defined and being set to 0.0 in labels with no true samples. Use `zero_division` parameter to control this behavior.\n",
      "  _warn_prf(average, modifier, msg_start, len(result))\n",
      "c:\\Users\\abhin\\.conda\\envs\\plant_disease\\lib\\site-packages\\sklearn\\metrics\\_classification.py:1469: UndefinedMetricWarning: Precision and F-score are ill-defined and being set to 0.0 in labels with no predicted samples. Use `zero_division` parameter to control this behavior.\n",
      "  _warn_prf(average, modifier, msg_start, len(result))\n",
      "c:\\Users\\abhin\\.conda\\envs\\plant_disease\\lib\\site-packages\\sklearn\\metrics\\_classification.py:1469: UndefinedMetricWarning: Recall and F-score are ill-defined and being set to 0.0 in labels with no true samples. Use `zero_division` parameter to control this behavior.\n",
      "  _warn_prf(average, modifier, msg_start, len(result))\n",
      "c:\\Users\\abhin\\.conda\\envs\\plant_disease\\lib\\site-packages\\sklearn\\metrics\\_classification.py:1469: UndefinedMetricWarning: Precision and F-score are ill-defined and being set to 0.0 in labels with no predicted samples. Use `zero_division` parameter to control this behavior.\n",
      "  _warn_prf(average, modifier, msg_start, len(result))\n",
      "c:\\Users\\abhin\\.conda\\envs\\plant_disease\\lib\\site-packages\\sklearn\\metrics\\_classification.py:1469: UndefinedMetricWarning: Recall and F-score are ill-defined and being set to 0.0 in labels with no true samples. Use `zero_division` parameter to control this behavior.\n",
      "  _warn_prf(average, modifier, msg_start, len(result))\n"
     ]
    },
    {
     "name": "stdout",
     "output_type": "stream",
     "text": [
      "Random Forest model trained and saved successfully!\n"
     ]
    }
   ],
   "source": [
    "import numpy as np\n",
    "import pandas as pd\n",
    "from sklearn.model_selection import train_test_split\n",
    "from sklearn.ensemble import RandomForestClassifier\n",
    "from sklearn.preprocessing import LabelEncoder\n",
    "from sklearn.metrics import accuracy_score, classification_report\n",
    "import joblib\n",
    "\n",
    "# Load dataset\n",
    "df = pd.read_csv(\"dataset/Drug_prescription_with_dosha.csv\")\n",
    "\n",
    "# Drop duplicates\n",
    "df = df.drop_duplicates()\n",
    "\n",
    "# Encode categorical features\n",
    "label_encoders = {}\n",
    "categorical_columns = [\"Dosha_Type\", \"gender\", \"disease\", \"drug\", \"severity\"]\n",
    "\n",
    "for col in categorical_columns:\n",
    "    le = LabelEncoder()\n",
    "    df[col] = le.fit_transform(df[col])\n",
    "    label_encoders[col] = le\n",
    "\n",
    "# Define features (X) and target (y)\n",
    "X = df[[\"age\", \"gender\", \"severity\", \"Dosha_Type\", \"disease\"]]  # Include Dosha_Type\n",
    "y = df[\"drug\"]\n",
    "\n",
    "# Split dataset\n",
    "X_train, X_test, y_train, y_test = train_test_split(X, y, test_size=0.2, random_state=42, stratify=y)\n",
    "\n",
    "# Train Random Forest Model\n",
    "model = RandomForestClassifier(n_estimators=300, max_depth=10, random_state=42)\n",
    "model.fit(X_train, y_train)\n",
    "\n",
    "# Predict on test set\n",
    "y_pred = model.predict(X_test)\n",
    "\n",
    "# Calculate accuracy\n",
    "accuracy = accuracy_score(y_test, y_pred)\n",
    "print(f\"Random Forest Accuracy: {accuracy * 100:.2f}%\")\n",
    "\n",
    "# Show classification report\n",
    "print(\"\\nClassification Report:\\n\", classification_report(y_test, y_pred))\n",
    "\n",
    "# Save model & encoders\n",
    "joblib.dump(model, \"Ayurvedic_Drug_Recommendation.sav\")\n",
    "joblib.dump(label_encoders, \"label_encoders.pkl\")\n",
    "\n",
    "print(\"Random Forest model trained and saved successfully!\")\n"
   ]
  }
 ],
 "metadata": {
  "anaconda-cloud": {},
  "colab": {
   "provenance": []
  },
  "kernelspec": {
   "display_name": "Python (plant_disease)",
   "language": "python",
   "name": "plant_disease"
  },
  "language_info": {
   "codemirror_mode": {
    "name": "ipython",
    "version": 3
   },
   "file_extension": ".py",
   "mimetype": "text/x-python",
   "name": "python",
   "nbconvert_exporter": "python",
   "pygments_lexer": "ipython3",
   "version": "3.10.15"
  }
 },
 "nbformat": 4,
 "nbformat_minor": 1
}
