{
 "cells": [
  {
   "cell_type": "code",
   "execution_count": 2,
   "id": "ee8a97cd-18d9-451f-8859-52385b36bf90",
   "metadata": {},
   "outputs": [],
   "source": [
    "import pandas as pd\n",
    "import numpy as np\n",
    "import joblib  # To load the trained model"
   ]
  },
  {
   "cell_type": "code",
   "execution_count": null,
   "id": "a34c486f-d26f-46f1-83d0-8cbb7ea8b3a3",
   "metadata": {},
   "outputs": [
    {
     "name": "stdout",
     "output_type": "stream",
     "text": [
      "Predicted Disease: Diarrhea\n"
     ]
    },
    {
     "name": "stderr",
     "output_type": "stream",
     "text": [
      "c:\\Users\\abhin\\.conda\\envs\\plant_disease\\lib\\site-packages\\sklearn\\base.py:457: UserWarning: X has feature names, but DecisionTreeClassifier was fitted without feature names\n",
      "  warnings.warn(\n"
     ]
    }
   ],
   "source": [
    "\n",
    "\n",
    "# Load the trained model (Load once to avoid reloading each time)\n",
    "MODEL_PATH = \"DecisionTree-Model.sav\"\n",
    "clf = joblib.load(MODEL_PATH)\n",
    "\n",
    "# List of all possible symptoms (must match training data features)\n",
    "SYMPTOMS = ['acidity', 'indigestion', 'headache', 'blurred_and_distorted_vision',\n",
    "            'excessive_hunger', 'muscle_weakness', 'stiff_neck', 'swelling_joints',\n",
    "            'movement_stiffness', 'depression', 'irritability', 'visual_disturbances',\n",
    "            'painful_walking', 'abdominal_pain', 'nausea', 'vomiting', 'blood_in_mucus',\n",
    "            'fatigue', 'fever', 'dehydration', 'loss_of_appetite', 'cramping',\n",
    "            'blood_in_stool', 'gnawing', 'upper_abdomain_pain', 'fullness_feeling',\n",
    "            'hiccups', 'abdominal_bloating', 'heartburn', 'belching', 'burning_ache']\n",
    "\n",
    "def predict_disease(symptom_list):\n",
    "    \"\"\"\n",
    "    Predicts disease based on the given symptoms.\n",
    "\n",
    "    :param symptom_list: List of symptoms reported by the user\n",
    "    :return: Predicted disease\n",
    "    \"\"\"\n",
    "\n",
    "    # Ensure input is a list\n",
    "    if not isinstance(symptom_list, list):\n",
    "        raise ValueError(\"Input should be a list of symptoms.\")\n",
    "\n",
    "    # Initialize feature dictionary with all symptoms set to 0\n",
    "    symptom_dict = {symptom: 0 for symptom in SYMPTOMS}\n",
    "\n",
    "    # Set reported symptoms to 1\n",
    "    for symptom in symptom_list:\n",
    "        if symptom in symptom_dict:\n",
    "            symptom_dict[symptom] = 1\n",
    "        else:\n",
    "            print(f\"Warning: {symptom} is not a recognized symptom.\")\n",
    "\n",
    "    # Convert to DataFrame (matching model input format)\n",
    "    df_test = pd.DataFrame([symptom_dict])\n",
    "\n",
    "    # Predict disease\n",
    "    result = clf.predict(df_test)[0]\n",
    "\n",
    "    return result\n",
    "\n",
    "# Example Usage\n",
    "user_symptoms = [\"acidity\", \"excessive_hunger\", \"muscle_weakness\"]\n",
    "predicted_disease = predict_disease(user_symptoms)\n",
    "print(f\"Predicted Disease: {predicted_disease}\")\n"
   ]
  },
  {
   "cell_type": "code",
   "execution_count": 9,
   "id": "b3f6901f-093a-4047-a552-36a09ae5a8df",
   "metadata": {},
   "outputs": [
    {
     "name": "stderr",
     "output_type": "stream",
     "text": [
      "/Library/Frameworks/Python.framework/Versions/3.10/lib/python3.10/site-packages/gradio/inputs.py:148: UserWarning: Usage of gradio.inputs is deprecated, and will not be supported in the future, please import your component from gradio.components\n",
      "  warnings.warn(\n",
      "/Library/Frameworks/Python.framework/Versions/3.10/lib/python3.10/site-packages/gradio/deprecation.py:40: UserWarning: `optional` parameter is deprecated, and it has no effect\n",
      "  warnings.warn(value)\n"
     ]
    },
    {
     "name": "stdout",
     "output_type": "stream",
     "text": [
      "IMPORTANT: You are using gradio version 3.10.1, however version 3.14.0 is available, please upgrade.\n",
      "--------\n",
      "Running on local URL:  http://127.0.0.1:7862\n",
      "Running on public URL: https://b687eef96cde75c3.gradio.app\n",
      "\n",
      "This share link expires in 72 hours. For free permanent hosting and GPU upgrades (NEW!), check out Spaces: https://huggingface.co/spaces\n"
     ]
    },
    {
     "data": {
      "text/html": [
       "<div><iframe src=\"https://b687eef96cde75c3.gradio.app\" width=\"100%\" height=\"500\" allow=\"autoplay; camera; microphone; clipboard-read; clipboard-write;\" frameborder=\"0\" allowfullscreen></iframe></div>"
      ],
      "text/plain": [
       "<IPython.core.display.HTML object>"
      ]
     },
     "metadata": {},
     "output_type": "display_data"
    },
    {
     "data": {
      "text/plain": []
     },
     "execution_count": 9,
     "metadata": {},
     "output_type": "execute_result"
    },
    {
     "name": "stderr",
     "output_type": "stream",
     "text": [
      "/Library/Frameworks/Python.framework/Versions/3.10/lib/python3.10/site-packages/sklearn/base.py:443: UserWarning: X has feature names, but DecisionTreeClassifier was fitted without feature names\n",
      "  warnings.warn(\n"
     ]
    }
   ],
   "source": [
    "# Run Inference Server\n",
    "# Click on Public URL to run demo on separate page or for sharing purposes\n",
    "iface = gr.Interface(\n",
    "    predict_disease_from_symptom,\n",
    "    [\n",
    "        gr.inputs.CheckboxGroup(['acidity', 'indigestion', 'headache', 'blurred_and_distorted_vision', \n",
    "                                 'excessive_hunger', 'muscle_weakness', 'stiff_neck', 'swelling_joints', \n",
    "                                 'movement_stiffness', 'depression','irritability', 'visual_disturbances', \n",
    "                                 'painful_walking', 'abdominal_pain', 'nausea', 'vomiting', 'blood_in_mucus', \n",
    "                                 'Fatigue','Fever', 'Dehydration', 'loss_of_appetite', 'cramping',\n",
    "                                 'blood_in_stool', 'gnawing', 'upper_abdomain_pain', 'fullness_feeling',\n",
    "                                 'hiccups', 'abdominal_bloating', 'heartburn', 'belching','burning_ache']),\n",
    "    ],\n",
    "    \"text\",\n",
    "    description=\"Select a symptom from the list and click submit to get predicted Disease as the Output. \\\n",
    "    [ NOTE: This app is meant for demo purposes only. Please consult a Doctor if you have any symptoms. ]\"\n",
    ")\n",
    "\n",
    "iface.launch(share=True)"
   ]
  },
  {
   "cell_type": "code",
   "execution_count": null,
   "id": "2e2c4220-6660-4ad7-9cce-244f53971ba6",
   "metadata": {},
   "outputs": [],
   "source": []
  }
 ],
 "metadata": {
  "kernelspec": {
   "display_name": "Python (plant_disease)",
   "language": "python",
   "name": "plant_disease"
  },
  "language_info": {
   "codemirror_mode": {
    "name": "ipython",
    "version": 3
   },
   "file_extension": ".py",
   "mimetype": "text/x-python",
   "name": "python",
   "nbconvert_exporter": "python",
   "pygments_lexer": "ipython3",
   "version": "3.10.15"
  },
  "vscode": {
   "interpreter": {
    "hash": "aee8b7b246df8f9039afb4144a1f6fd8d2ca17a180786b69acc140d282b71a49"
   }
  }
 },
 "nbformat": 4,
 "nbformat_minor": 5
}
